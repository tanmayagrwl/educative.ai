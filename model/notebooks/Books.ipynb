{
  "nbformat": 4,
  "nbformat_minor": 0,
  "metadata": {
    "colab": {
      "provenance": []
    },
    "kernelspec": {
      "name": "python3",
      "display_name": "Python 3"
    },
    "language_info": {
      "name": "python"
    }
  },
  "cells": [
    {
      "cell_type": "code",
      "execution_count": 6,
      "metadata": {
        "colab": {
          "base_uri": "https://localhost:8080/"
        },
        "id": "-VUHikTRUuCa",
        "outputId": "7940b788-d8f5-4097-89d5-24513c6c4e26"
      },
      "outputs": [
        {
          "output_type": "stream",
          "name": "stdout",
          "text": [
            "Collecting selenium\n",
            "  Downloading selenium-4.17.2-py3-none-any.whl (9.9 MB)\n",
            "\u001b[2K     \u001b[90m━━━━━━━━━━━━━━━━━━━━━━━━━━━━━━━━━━━━━━━━\u001b[0m \u001b[32m9.9/9.9 MB\u001b[0m \u001b[31m33.7 MB/s\u001b[0m eta \u001b[36m0:00:00\u001b[0m\n",
            "\u001b[?25hRequirement already satisfied: urllib3[socks]<3,>=1.26 in /usr/local/lib/python3.10/dist-packages (from selenium) (2.0.7)\n",
            "Collecting trio~=0.17 (from selenium)\n",
            "  Downloading trio-0.24.0-py3-none-any.whl (460 kB)\n",
            "\u001b[2K     \u001b[90m━━━━━━━━━━━━━━━━━━━━━━━━━━━━━━━━━━━━━━━━\u001b[0m \u001b[32m460.2/460.2 kB\u001b[0m \u001b[31m38.1 MB/s\u001b[0m eta \u001b[36m0:00:00\u001b[0m\n",
            "\u001b[?25hCollecting trio-websocket~=0.9 (from selenium)\n",
            "  Downloading trio_websocket-0.11.1-py3-none-any.whl (17 kB)\n",
            "Requirement already satisfied: certifi>=2021.10.8 in /usr/local/lib/python3.10/dist-packages (from selenium) (2024.2.2)\n",
            "Requirement already satisfied: typing_extensions>=4.9.0 in /usr/local/lib/python3.10/dist-packages (from selenium) (4.9.0)\n",
            "Requirement already satisfied: attrs>=20.1.0 in /usr/local/lib/python3.10/dist-packages (from trio~=0.17->selenium) (23.2.0)\n",
            "Requirement already satisfied: sortedcontainers in /usr/local/lib/python3.10/dist-packages (from trio~=0.17->selenium) (2.4.0)\n",
            "Requirement already satisfied: idna in /usr/local/lib/python3.10/dist-packages (from trio~=0.17->selenium) (3.6)\n",
            "Collecting outcome (from trio~=0.17->selenium)\n",
            "  Downloading outcome-1.3.0.post0-py2.py3-none-any.whl (10 kB)\n",
            "Requirement already satisfied: sniffio>=1.3.0 in /usr/local/lib/python3.10/dist-packages (from trio~=0.17->selenium) (1.3.0)\n",
            "Requirement already satisfied: exceptiongroup in /usr/local/lib/python3.10/dist-packages (from trio~=0.17->selenium) (1.2.0)\n",
            "Collecting wsproto>=0.14 (from trio-websocket~=0.9->selenium)\n",
            "  Downloading wsproto-1.2.0-py3-none-any.whl (24 kB)\n",
            "Requirement already satisfied: pysocks!=1.5.7,<2.0,>=1.5.6 in /usr/local/lib/python3.10/dist-packages (from urllib3[socks]<3,>=1.26->selenium) (1.7.1)\n",
            "Collecting h11<1,>=0.9.0 (from wsproto>=0.14->trio-websocket~=0.9->selenium)\n",
            "  Downloading h11-0.14.0-py3-none-any.whl (58 kB)\n",
            "\u001b[2K     \u001b[90m━━━━━━━━━━━━━━━━━━━━━━━━━━━━━━━━━━━━━━━━\u001b[0m \u001b[32m58.3/58.3 kB\u001b[0m \u001b[31m7.1 MB/s\u001b[0m eta \u001b[36m0:00:00\u001b[0m\n",
            "\u001b[?25hInstalling collected packages: outcome, h11, wsproto, trio, trio-websocket, selenium\n",
            "Successfully installed h11-0.14.0 outcome-1.3.0.post0 selenium-4.17.2 trio-0.24.0 trio-websocket-0.11.1 wsproto-1.2.0\n"
          ]
        }
      ],
      "source": [
        "pip install selenium"
      ]
    },
    {
      "cell_type": "code",
      "source": [
        "import requests\n",
        "from bs4 import BeautifulSoup\n",
        "in1=input(\"Which book you want : \")\n",
        "url=\"https://pdfdrive.com.co/?s=\"+in1.lower().replace(' ','+')\n",
        "\n",
        "l1=[\"https://pdfdrive.com.co/\",\"https://pdfdrive.com.co/about-us/\",\"https://pdfdrive.com.co/category/\",\"https://pdfdrive.com.co/contact-us/\",\"https://pdfdrive.com.co/de/\",\"https://pdfdrive.com.co/privacy-policy/\",\"https://pdfdrive.com.co/terms/\",\"https://pdfdrive.com.co\",\"https://pdfdrive.com.co/\",\"https://pdfdrive.com.co/category/\",\"https://pdfdrive.com.co/novels/\",\"https://pdfdrive.com.co/download-self-improvement-pdf/\",\"https://pdfdrive.com.co/download-similar-free-ebooks/\",\"https://pdfdrive.com.co/14-download-business-career-pdf/\",\"https://pdfdrive.com.co/general-knowledge-books/\",\"https://pdfdrive.com.co/biography/\",\"https://pdfdrive.com.co/8-download-academic-education-pdf/\",\"https://pdfdrive.com.co/financial/\",\"https://pdfdrive.com.co/9-download-history-pdf/\",\"https://pdfdrive.com.co/19-download-religion-pdf/\",\"https://pdfdrive.com.co/contact-us/\",\"https://pdfdrive.com.co/about-us/\",\"https://pdfdrive.com.co/de/\",\"https://pdfdrive.com.co/terms/\",\"https://pdfdrive.com.co/privacy-policy/\",\"https://www.facebook.com/profile.php?id=100094368993054\",\"//www.dmca.com/Protection/Status.aspx?ID=fd7b2402-cdc6-467e-97bb-9bad0e2c7c5d\"]\n",
        "#url = \"https://pdfdrive.com.co/?s=theory+of+relativity\"\n",
        "response = requests.get(url)\n",
        "a1=[]\n",
        "if response.status_code == 200:\n",
        "    soup = BeautifulSoup(response.content, \"html.parser\")\n",
        "    links = soup.find_all(\"a\")\n",
        "\n",
        "    # Extract the href attribute from each anchor tag\n",
        "    link_urls = [link.get(\"href\") for link in links]\n",
        "\n",
        "    # Print all the extracted links\n",
        "    for link in link_urls:\n",
        "      if link not in l1:\n",
        "        print(link)\n",
        "        a1.append(link)\n",
        "else:\n",
        "    print(\"Failed to retrieve the webpage\")\n"
      ],
      "metadata": {
        "colab": {
          "base_uri": "https://localhost:8080/"
        },
        "id": "GIsE_0x7U2u1",
        "outputId": "9f5cef79-332b-4d1d-eb29-5ff82308d1cb"
      },
      "execution_count": 32,
      "outputs": [
        {
          "output_type": "stream",
          "name": "stdout",
          "text": [
            "Which book you want : Theory of evolution\n",
            "https://pdfdrive.com.co/a-random-walk-down-wall-street-pdf/\n",
            "https://pdfdrive.com.co/the-miracle-morning-pdf/\n",
            "https://pdfdrive.com.co/playground-book-aron-beauregard/\n",
            "https://pdfdrive.com.co/the-secret-book-pdf/\n",
            "https://pdfdrive.com.co/hc-verma-concepts-of-physics-pdf-x/\n",
            "https://pdfdrive.com.co/sl-arora-physics-class-12-pdf/\n"
          ]
        }
      ]
    },
    {
      "cell_type": "code",
      "source": [
        "import time\n",
        "import requests\n",
        "from bs4 import BeautifulSoup\n",
        "b1=[]\n",
        "\n",
        "def check_download_button(html_content):\n",
        "    soup = BeautifulSoup(html_content, \"html.parser\")\n",
        "    download_button = soup.find(\"a\", text=\"Download\")\n",
        "    return download_button is not None\n",
        "\n",
        "def start(d12):\n",
        "  url = d12\n",
        "  response = requests.get(url)\n",
        "  if response.status_code == 200:\n",
        "      soup = BeautifulSoup(response.content, \"html.parser\")\n",
        "      time.sleep(10)\n",
        "      links = soup.find_all(\"a\")\n",
        "      #print(links)\n",
        "      print(\"_______________________________\")\n",
        "      #print(links[8])\n",
        "      j=links[28]\n",
        "      link_urls = [j.get(\"href\")]\n",
        "      print(link_urls)\n",
        "  else:\n",
        "      print(\"Failed to retrieve the webpage\")\n",
        "\n",
        "for i in a1:\n",
        "  k=i.split(\"/\")[3]\n",
        "  j=f\"https://pdfdrive.com.co/{k}/?download=links&opt=1\"\n",
        "  start(j)\n",
        "\n"
      ],
      "metadata": {
        "colab": {
          "base_uri": "https://localhost:8080/"
        },
        "id": "Au2QIHBkWl3a",
        "outputId": "004902c7-93da-46d2-cf9a-023e5150fa32"
      },
      "execution_count": 33,
      "outputs": [
        {
          "output_type": "stream",
          "name": "stdout",
          "text": [
            "_______________________________\n",
            "['https://pdfdrive.com.co?download_link=RTlWSURYYmxOYVZGWGFIOVJlK1ZEek83YVg4cllDUWt3cWNoOG1yMEoxdE80US9JNE9yV1hWemRyd2FtN29FdlMyL3ZRVkNpTXNtZlFyOGpsMnY3cEN4eDhHSkdQOU9teHJKSkNNa1hJdDA9']\n",
            "_______________________________\n",
            "['https://pdfdrive.com.co?download_link=RTlWSURYYmxOYVZGWGFIOVJlK1ZEek83YVg4cllDUWt3cWNoOG1yMEoxczBZZjJFMlNSbVR0RmV2ZXpUWk5OWEQvditoTm43TmQ5UnlVckR1MHFwMkE9PQ=']\n",
            "_______________________________\n",
            "['https://pdfdrive.com.co/playground-book-aron-beauregard/?download=links']\n",
            "_______________________________\n",
            "['https://pdfdrive.com.co?download_link=RTlWSURYYmxOYVZGWGFIOVJlK1ZEek83YVg4cllDUWt3cWNoOG1yMEoxdmRVWGVwVmNmOFB1NUxRbnp5OWs3YW00ZlM2cVkwVDIrYWRXU21DcCtTTGc9PQ=']\n",
            "_______________________________\n",
            "['https://pdfdrive.com.co?download_link=RTlWSURYYmxOYVZGWGFIOVJlK1ZEek83YVg4cllDUWt3cWNoOG1yMEoxdXFMVVFLNkp4aGVmZG9lWXRYWVFhcWhuMWNVREhLMk40bjhyTUw3eE5mRTk2azBrTE9WMTQ5c3dwWGZ1amFhZlF2ZHcrK1hiUnBvU1RvVlpibWp4NUY']\n",
            "_______________________________\n",
            "['https://pdfdrive.com.co?download_link=RTlWSURYYmxOYVZGWGFIOVJlK1ZEek83YVg4cllDUWt3cWNoOG1yMEoxdmthdUxQckdmbk96bGpyaHhEMGdHZGlEYlJFb3lReTVuR3NLemYzd2wyUmxxR0trVzVKd1FhUzA5bjBBRDErTGM9']\n"
          ]
        }
      ]
    },
    {
      "cell_type": "code",
      "source": [
        "in1=input(\"Which book you want : \")\n",
        "z=\"https://pdfdrive.com.co/?s=\"+in1.lower().replace(' ','+')\n",
        "\n"
      ],
      "metadata": {
        "colab": {
          "base_uri": "https://localhost:8080/"
        },
        "id": "wUHG3UdmdOjy",
        "outputId": "476bc085-9c1f-458c-f43b-de4232de6028"
      },
      "execution_count": 24,
      "outputs": [
        {
          "output_type": "stream",
          "name": "stdout",
          "text": [
            "Which book you want : Theory of relativity\n",
            "https://pdfdrive.com.co/?s=theory+of+relativity\n"
          ]
        }
      ]
    },
    {
      "cell_type": "code",
      "source": [
        "p=\"https://pdfdrive.com.co/sl-arora-physics-class-12-pdf/\"\n",
        "print(p.split(\"/\")[3])"
      ],
      "metadata": {
        "colab": {
          "base_uri": "https://localhost:8080/"
        },
        "id": "-f4io97Kgqny",
        "outputId": "9897c48c-fcb8-43d4-d60d-b59fa6c9c48d"
      },
      "execution_count": 29,
      "outputs": [
        {
          "output_type": "stream",
          "name": "stdout",
          "text": [
            "sl-arora-physics-class-12-pdf\n"
          ]
        }
      ]
    }
  ]
}